{
 "cells": [
  {
   "cell_type": "markdown",
   "id": "7f776e6f",
   "metadata": {},
   "source": [
    "# The `Base` Class\n",
    "\n",
    "The `Base` class is the main module of `Zodiax` designed to make working with pytrees simpler. If you haven't already please read the [PyTree overview](https://louisdesdoigts.github.io/zodiax/pytree/) & `Zodiax` overview [here](https://louisdesdoigts.github.io/zodiax/usage/). There are 10 methods that are implemented in the `Base` class:\n",
    "\n",
    "- `.get(path)` - get the value of a leaf\n",
    "- `.set(path, value)` - set the value of a leaf\n",
    "- `.add(path, value)` - add a value to a leaf\n",
    "- `.multiply(path, value)` - multiply a leaf by a value\n",
    "- `.divide(path, value)` - divide a leaf by a value\n",
    "- `.power(path, value)` - raise a leaf to a power\n",
    "- `.min(path, value)` - take the minimum of a leaf and value\n",
    "- `.max(path, value)` - take the maximum of a leaf and value\n",
    "- `.apply(path, fn)` - applies the function to the leaf\n",
    "- `.apply_args(path, fn, args)` - - `.apply(path, fn)` - applies the function to the leaf while also passing in the extra arguments\n",
    "\n",
    "Lets look at some examples of how to use these methods:"
   ]
  },
  {
   "cell_type": "code",
   "execution_count": 1,
   "id": "c33047c9-7f3a-4488-96ba-2d1ca0e659ae",
   "metadata": {},
   "outputs": [],
   "source": [
    "from zodiax import Base\n",
    "import jax.numpy as np"
   ]
  },
  {
   "cell_type": "code",
   "execution_count": 2,
   "id": "43609643-f579-4d2f-8419-089455127b9e",
   "metadata": {},
   "outputs": [
    {
     "name": "stdout",
     "output_type": "stream",
     "text": [
      "SuperGaussian(\n",
      "  variances=Variances(\n",
      "    var_x=10,\n",
      "    var_y=10,\n",
      "    some_list=[-1, -2],\n",
      "    some_dict={'a': 'foo', 'b': 'bar'}\n",
      "  ),\n",
      "  power=1\n",
      ")\n"
     ]
    }
   ],
   "source": [
    "# Example class\n",
    "class Variances(Base):\n",
    "    var_x: float\n",
    "    var_y: float\n",
    "    some_list: list\n",
    "    some_dict: dict\n",
    "\n",
    "    def __init__(self, var_x, var_y, some_list, some_dict):\n",
    "        self.var_x = var_x\n",
    "        self.var_y = var_y\n",
    "        self.some_list = some_list\n",
    "        self.some_dict = some_dict\n",
    "\n",
    "# Example class\n",
    "class SuperGaussian(Base):\n",
    "    variances: object\n",
    "    power: float\n",
    "\n",
    "    def __init__(self, variances, power):\n",
    "        self.variances = variances\n",
    "        self.power = power\n",
    "        \n",
    "# Create an instance of the SuperGaussian object\n",
    "var_x, var_y = 10, 10\n",
    "power = 1\n",
    "some_list = [-1, -2]\n",
    "some_dict = {'a': 'foo', 'b': 'bar'}\n",
    "\n",
    "# Create the object\n",
    "variances = Variances(var_x, var_y, some_list, some_dict)\n",
    "pytree = SuperGaussian(variances, power)\n",
    "\n",
    "# Examine the object\n",
    "print(pytree)"
   ]
  },
  {
   "cell_type": "markdown",
   "id": "27a8371d-4e18-4b77-9b7e-9f797ebfc5c4",
   "metadata": {},
   "source": [
    "Nice! Here we have a nested structure, so to look at some of these class methods, we first need to understand the 'path' object.\n",
    "\n",
    "## The `path` object\n",
    "\n",
    "A `path` is simply a string that refers to some place in a pytree, with nested structures connected with dots '.', similar to accessing class attributes. Some example paths for our example pytree would look like this:\n",
    "\n",
    " - 'variances.var_x'\n",
    " - 'power'\n",
    " - 'variances.some_list.0'\n",
    " - 'variances.some_dict.a'\n",
    " - 'variances.some_dict'\n",
    "\n",
    "Each of these path objects refer to some place in the pytree, not neccesarily a leaf. Now lets define some paths and look at the `.get(path)` method:"
   ]
  },
  {
   "cell_type": "code",
   "execution_count": 3,
   "id": "913af83b-c970-459c-933b-d6c8df31930a",
   "metadata": {},
   "outputs": [
    {
     "name": "stdout",
     "output_type": "stream",
     "text": [
      "10\n",
      "-1\n",
      "{'a': 'foo', 'b': 'bar'}\n",
      "[10, -1, {'a': 'foo', 'b': 'bar'}]\n"
     ]
    }
   ],
   "source": [
    "path1 = 'variances.var_x'\n",
    "path2 = 'variances.some_list.0'\n",
    "path3 = 'variances.some_dict'\n",
    "\n",
    "# Get individual items\n",
    "print(pytree.get(path1))\n",
    "print(pytree.get(path2))\n",
    "print(pytree.get(path3))\n",
    "\n",
    "# Get list of items\n",
    "print(pytree.get([path1, path2, path3]))"
   ]
  },
  {
   "cell_type": "markdown",
   "id": "b57816b0-9b26-412b-9d28-33cb765cd1b1",
   "metadata": {},
   "source": [
    "Now we can use these paths and the `.set(path, value)` to create an updated version of the pytree\n",
    "\n",
    "This method takes in a path and a value and returns a pytree with the leaf or subtree sepcified by the path replaced with value. Similarly we can pass in a list of multiple paths and values and all of the parameters will be updated!"
   ]
  },
  {
   "cell_type": "code",
   "execution_count": 4,
   "id": "4809d2f7-6278-48a7-bcd9-ad3a49df9120",
   "metadata": {},
   "outputs": [
    {
     "name": "stdout",
     "output_type": "stream",
     "text": [
      "SuperGaussian(\n",
      "  variances=Variances(\n",
      "    var_x=100,\n",
      "    var_y=10,\n",
      "    some_list=[-100, -2],\n",
      "    some_dict={'a': 'FOO', 'b': 'BAR'}\n",
      "  ),\n",
      "  power=1\n",
      ")\n"
     ]
    }
   ],
   "source": [
    "value1 = 100\n",
    "value2 = -100\n",
    "value3 = {'a': 'FOO', 'b': 'BAR'}\n",
    "\n",
    "print(pytree.set([path1, path2, path3], [value1, value2, value3]))"
   ]
  },
  {
   "cell_type": "markdown",
   "id": "a713e3c1",
   "metadata": {},
   "source": [
    "We can also use the 'nesting' concept to update mutiple parameters at once, and group those updates!"
   ]
  },
  {
   "cell_type": "code",
   "execution_count": 5,
   "id": "0b77c4c3-314b-4454-94b3-88399a28823d",
   "metadata": {},
   "outputs": [
    {
     "name": "stdout",
     "output_type": "stream",
     "text": [
      "SuperGaussian(\n",
      "  variances=Variances(var_x=0, var_y=10, some_list=[0, -2], some_dict=0),\n",
      "  power=1\n",
      ")\n",
      "SuperGaussian(\n",
      "  variances=Variances(var_x=0, var_y=10, some_list=[100, -2], some_dict=100),\n",
      "  power=1\n",
      ")\n"
     ]
    }
   ],
   "source": [
    "# Assign all paths to zero\n",
    "print(pytree.set([path1, path2, path3], 0))\n",
    "\n",
    "# Assign nested paths\n",
    "print(pytree.set([path1, [path2, path3]], [0, 100]))"
   ]
  },
  {
   "cell_type": "markdown",
   "id": "daf2960e-e5ac-4f81-bf4b-4775d13998d2",
   "metadata": {},
   "source": [
    "So you might notice that 'some_dict', which should presumably be a dictionary, is no-longer a dictionary! This is becuase these methods do *not* do any type checking at all! If you pass in a wrong data-type, then it will be assigned at to the leaf. This is an important caveat to be aware of, as if you accidentally put a list, or a jax array with incorrect dimensionality then later behaviour of the objects can not be guaranteed!"
   ]
  },
  {
   "cell_type": "markdown",
   "id": "5b6625b9-0b86-4961-8fe5-a6d70420c6e3",
   "metadata": {},
   "source": [
    "We can also use the `.add(path, value)` method to add a value to a leaf. As descibed, this works in the same manner to the `.set()` method, except it adds to the leaf specified by the path!"
   ]
  },
  {
   "cell_type": "code",
   "execution_count": 6,
   "id": "6175958a-7da6-4b3d-bf3b-f3158ea9e88b",
   "metadata": {},
   "outputs": [
    {
     "name": "stdout",
     "output_type": "stream",
     "text": [
      "SuperGaussian(\n",
      "  variances=Variances(\n",
      "    var_x=1010.0,\n",
      "    var_y=10,\n",
      "    some_list=[-1001.0, -2],\n",
      "    some_dict={'a': 'foo', 'b': 'bar'}\n",
      "  ),\n",
      "  power=1\n",
      ")\n",
      "SuperGaussian(\n",
      "  variances=Variances(\n",
      "    var_x=1010.0,\n",
      "    var_y=10,\n",
      "    some_list=[999.0, -2],\n",
      "    some_dict={'a': 'foo', 'b': 'bar'}\n",
      "  ),\n",
      "  power=1\n",
      ")\n"
     ]
    }
   ],
   "source": [
    "# Add different values\n",
    "print(pytree.add([path1, path2], [1e3, -1e3]))\n",
    "\n",
    "# Add the same value\n",
    "print(pytree.add([path1, path2], 1e3))"
   ]
  },
  {
   "cell_type": "markdown",
   "id": "14608a1a",
   "metadata": {},
   "source": [
    "The rest of the methods work in a similar manner, so I will not go into detail about them here. The exceptions are the `.apply(path, fn)` and `.apply_args(path, fn, args)` methods. These methods do not take in a value, but rather a function, so lets define some and have a look"
   ]
  },
  {
   "cell_type": "code",
   "execution_count": 7,
   "id": "c33b2d91",
   "metadata": {},
   "outputs": [
    {
     "name": "stdout",
     "output_type": "stream",
     "text": [
      "SuperGaussian(\n",
      "  variances=Variances(\n",
      "    var_x=100,\n",
      "    var_y=10,\n",
      "    some_list=[1, -2],\n",
      "    some_dict={'a': 'foo', 'b': 'bar'}\n",
      "  ),\n",
      "  power=1\n",
      ")\n",
      "SuperGaussian(\n",
      "  variances=Variances(\n",
      "    var_x=1000,\n",
      "    var_y=10,\n",
      "    some_list=[-1, -2],\n",
      "    some_dict={'a': 'foo', 'b': 'bar'}\n",
      "  ),\n",
      "  power=1\n",
      ")\n",
      "SuperGaussian(\n",
      "  variances=Variances(\n",
      "    var_x=f32[],\n",
      "    var_y=10,\n",
      "    some_list=[f32[], -2],\n",
      "    some_dict={'a': 'foo', 'b': 'bar'}\n",
      "  ),\n",
      "  power=1\n",
      ")\n"
     ]
    }
   ],
   "source": [
    "# Sqaure function\n",
    "def square(x):\n",
    "    return x ** 2\n",
    "\n",
    "# Apply function\n",
    "print(pytree.apply([path1, path2], square))\n",
    "\n",
    "# Cube function\n",
    "cube = lambda x: x ** 3\n",
    "\n",
    "# Apply functions\n",
    "print(pytree.apply([path1, path2], cube))\n",
    "\n",
    "# Log function\n",
    "log = np.log10\n",
    "\n",
    "# Apply functions\n",
    "print(pytree.apply([path1, path2], log))"
   ]
  },
  {
   "cell_type": "markdown",
   "id": "d0d09dbc",
   "metadata": {},
   "source": [
    "The `.apply(path, fn, args)` can be used to pass in extra arguments if we have a more complex function!"
   ]
  },
  {
   "cell_type": "code",
   "execution_count": 8,
   "id": "3d67f502",
   "metadata": {},
   "outputs": [
    {
     "name": "stdout",
     "output_type": "stream",
     "text": [
      "SuperGaussian(\n",
      "  variances=Variances(\n",
      "    var_x=8000,\n",
      "    var_y=10,\n",
      "    some_list=[-8, -2],\n",
      "    some_dict={'a': 'foo', 'b': 'bar'}\n",
      "  ),\n",
      "  power=1\n",
      ")\n"
     ]
    }
   ],
   "source": [
    "# Complex function\n",
    "def mult_and_power(x, mult, power):\n",
    "    return (x * mult) ** power\n",
    "\n",
    "# Apply functions\n",
    "print(pytree.apply_args([path1, path2], mult_and_power, (2, 3)))"
   ]
  },
  {
   "cell_type": "code",
   "execution_count": null,
   "id": "b7d541f3",
   "metadata": {},
   "outputs": [],
   "source": []
  }
 ],
 "metadata": {
  "kernelspec": {
   "display_name": "Python 3.10.4 ('dlux')",
   "language": "python",
   "name": "python3"
  },
  "language_info": {
   "codemirror_mode": {
    "name": "ipython",
    "version": 3
   },
   "file_extension": ".py",
   "mimetype": "text/x-python",
   "name": "python",
   "nbconvert_exporter": "python",
   "pygments_lexer": "ipython3",
   "version": "3.10.4"
  },
  "vscode": {
   "interpreter": {
    "hash": "a3693df75ba28e52dd68494f6b47859fd1ff4ca5564321074ea02c1e77df2d38"
   }
  }
 },
 "nbformat": 4,
 "nbformat_minor": 5
}
